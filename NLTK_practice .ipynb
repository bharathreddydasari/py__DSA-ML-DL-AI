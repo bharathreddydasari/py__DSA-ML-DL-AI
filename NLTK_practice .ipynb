{
 "cells": [
  {
   "cell_type": "markdown",
   "metadata": {},
   "source": [
    "Parts of Speech  "
   ]
  },
  {
   "cell_type": "raw",
   "metadata": {},
   "source": [
    "NNP\t--- Proper noun, singular\n",
    "NN\t---Noun, singular or mass\n",
    "RB\t---Adverb\n",
    "VBD\t---Verb, past tense\n",
    "VBG\t---Verb, gerund or present participle\n",
    "JJ\t---Adjective\n",
    "PRP\t---Personal pronoun"
   ]
  },
  {
   "cell_type": "code",
   "execution_count": 2,
   "metadata": {},
   "outputs": [
    {
     "data": {
      "text/plain": [
       "[('Bharath', 'NNP'),\n",
       " ('and', 'CC'),\n",
       " ('reddy', 'NN'),\n",
       " ('are', 'VBP'),\n",
       " ('close', 'JJ'),\n",
       " ('friends', 'NNS')]"
      ]
     },
     "execution_count": 2,
     "metadata": {},
     "output_type": "execute_result"
    }
   ],
   "source": [
    "from nltk import pos_tag\n",
    "from nltk import word_tokenize\n",
    "text_data = \"Bharath and reddy are close friends\"\n",
    "text_tagged = pos_tag(word_tokenize(text_data))\n",
    "text_tagged "
   ]
  },
  {
   "cell_type": "markdown",
   "metadata": {},
   "source": [
    "Tokenize text "
   ]
  },
  {
   "cell_type": "code",
   "execution_count": 4,
   "metadata": {},
   "outputs": [
    {
     "name": "stdout",
     "output_type": "stream",
     "text": [
      "['The', 'science', 'of', 'today', 'is', 'the', 'technology', 'of', 'tomorrow', '.', 'Future', 'starts', 'today', 'not', 'tommorrow', '.']\n",
      "['The science of today is the technology of tomorrow.', 'Future starts today not tommorrow.']\n"
     ]
    }
   ],
   "source": [
    "from nltk.tokenize import word_tokenize, sent_tokenize\n",
    "string = \"The science of today is the technology of tomorrow. Future starts today not tommorrow.\"\n",
    "print(word_tokenize(string))\n",
    "print(sent_tokenize(string))"
   ]
  },
  {
   "cell_type": "markdown",
   "metadata": {},
   "source": [
    "Bag of words"
   ]
  },
  {
   "cell_type": "code",
   "execution_count": 8,
   "metadata": {},
   "outputs": [
    {
     "name": "stdout",
     "output_type": "stream",
     "text": [
      "[[0 1 0 0 0 1 0 1]\n",
      " [1 0 0 0 1 0 1 0]\n",
      " [0 0 1 1 1 0 0 0]]\n",
      "['best', 'bharath', 'ginger', 'good', 'is', 'like', 'sugar', 'sweets']\n"
     ]
    },
    {
     "data": {
      "text/html": [
       "<div>\n",
       "<style scoped>\n",
       "    .dataframe tbody tr th:only-of-type {\n",
       "        vertical-align: middle;\n",
       "    }\n",
       "\n",
       "    .dataframe tbody tr th {\n",
       "        vertical-align: top;\n",
       "    }\n",
       "\n",
       "    .dataframe thead th {\n",
       "        text-align: right;\n",
       "    }\n",
       "</style>\n",
       "<table border=\"1\" class=\"dataframe\">\n",
       "  <thead>\n",
       "    <tr style=\"text-align: right;\">\n",
       "      <th></th>\n",
       "      <th>best</th>\n",
       "      <th>bharath</th>\n",
       "      <th>ginger</th>\n",
       "      <th>good</th>\n",
       "      <th>is</th>\n",
       "      <th>like</th>\n",
       "      <th>sugar</th>\n",
       "      <th>sweets</th>\n",
       "    </tr>\n",
       "  </thead>\n",
       "  <tbody>\n",
       "    <tr>\n",
       "      <th>0</th>\n",
       "      <td>0</td>\n",
       "      <td>1</td>\n",
       "      <td>0</td>\n",
       "      <td>0</td>\n",
       "      <td>0</td>\n",
       "      <td>1</td>\n",
       "      <td>0</td>\n",
       "      <td>1</td>\n",
       "    </tr>\n",
       "    <tr>\n",
       "      <th>1</th>\n",
       "      <td>1</td>\n",
       "      <td>0</td>\n",
       "      <td>0</td>\n",
       "      <td>0</td>\n",
       "      <td>1</td>\n",
       "      <td>0</td>\n",
       "      <td>1</td>\n",
       "      <td>0</td>\n",
       "    </tr>\n",
       "    <tr>\n",
       "      <th>2</th>\n",
       "      <td>0</td>\n",
       "      <td>0</td>\n",
       "      <td>1</td>\n",
       "      <td>1</td>\n",
       "      <td>1</td>\n",
       "      <td>0</td>\n",
       "      <td>0</td>\n",
       "      <td>0</td>\n",
       "    </tr>\n",
       "  </tbody>\n",
       "</table>\n",
       "</div>"
      ],
      "text/plain": [
       "   best  bharath  ginger  good  is  like  sugar  sweets\n",
       "0     0        1       0     0   0     1      0       1\n",
       "1     1        0       0     0   1     0      1       0\n",
       "2     0        0       1     1   1     0      0       0"
      ]
     },
     "execution_count": 8,
     "metadata": {},
     "output_type": "execute_result"
    }
   ],
   "source": [
    "import numpy as np\n",
    "from sklearn.feature_extraction.text import CountVectorizer\n",
    "import pandas as pd\n",
    "text_data = np.array(['bharath like sweets',\n",
    "                      'Sugar is best',\n",
    "                      'Ginger is good'])\n",
    "\n",
    "count = CountVectorizer()\n",
    "bag_of_words = count.fit_transform(text_data)\n",
    "\n",
    "print(bag_of_words.toarray())\n",
    "\n",
    "feature_names = count.get_feature_names()\n",
    "\n",
    "\n",
    "print(feature_names)\n",
    "\n",
    "pd.DataFrame(bag_of_words.toarray(), columns=feature_names)\n",
    "\n"
   ]
  },
  {
   "cell_type": "code",
   "execution_count": null,
   "metadata": {},
   "outputs": [],
   "source": []
  },
  {
   "cell_type": "code",
   "execution_count": null,
   "metadata": {},
   "outputs": [],
   "source": []
  }
 ],
 "metadata": {
  "kernelspec": {
   "display_name": "Python 3",
   "language": "python",
   "name": "python3"
  },
  "language_info": {
   "codemirror_mode": {
    "name": "ipython",
    "version": 3
   },
   "file_extension": ".py",
   "mimetype": "text/x-python",
   "name": "python",
   "nbconvert_exporter": "python",
   "pygments_lexer": "ipython3",
   "version": "3.6.5"
  }
 },
 "nbformat": 4,
 "nbformat_minor": 2
}
