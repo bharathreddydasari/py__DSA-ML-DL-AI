{
 "cells": [
  {
   "cell_type": "code",
   "execution_count": 2,
   "metadata": {},
   "outputs": [],
   "source": [
    "import sklearn "
   ]
  },
  {
   "cell_type": "code",
   "execution_count": 3,
   "metadata": {},
   "outputs": [],
   "source": [
    "import numpy "
   ]
  },
  {
   "cell_type": "code",
   "execution_count": 4,
   "metadata": {},
   "outputs": [],
   "source": [
    "import pandas"
   ]
  },
  {
   "cell_type": "code",
   "execution_count": 2,
   "metadata": {},
   "outputs": [
    {
     "name": "stdout",
     "output_type": "stream",
     "text": [
      "showing info https://raw.githubusercontent.com/nltk/nltk_data/gh-pages/index.xml\n"
     ]
    },
    {
     "data": {
      "text/plain": [
       "True"
      ]
     },
     "execution_count": 2,
     "metadata": {},
     "output_type": "execute_result"
    }
   ],
   "source": [
    "import nltk\n",
    "nltk.download()"
   ]
  },
  {
   "cell_type": "code",
   "execution_count": 1,
   "metadata": {},
   "outputs": [],
   "source": [
    "import nltk "
   ]
  },
  {
   "cell_type": "code",
   "execution_count": 2,
   "metadata": {},
   "outputs": [
    {
     "name": "stdout",
     "output_type": "stream",
     "text": [
      "[nltk_data] Downloading package wordnet to\n",
      "[nltk_data]     C:\\Users\\dasarred\\AppData\\Roaming\\nltk_data...\n",
      "[nltk_data]   Package wordnet is already up-to-date!\n"
     ]
    },
    {
     "data": {
      "text/plain": [
       "True"
      ]
     },
     "execution_count": 2,
     "metadata": {},
     "output_type": "execute_result"
    }
   ],
   "source": [
    "nltk.download('wordnet')"
   ]
  },
  {
   "cell_type": "code",
   "execution_count": 22,
   "metadata": {},
   "outputs": [
    {
     "name": "stdout",
     "output_type": "stream",
     "text": [
      "programming\n",
      "program\n",
      "coder\n",
      "coder\n",
      "iam using python for data science\n",
      "iam using python for data sci\n",
      "looking for challenging role in field of datascience and machinelearning\n",
      "looking for challenging role in sci\n"
     ]
    }
   ],
   "source": [
    "from nltk.stem import WordNetLemmatizer\n",
    "wnl = WordNetLemmatizer()\n",
    "from nltk.stem import SnowballStemmer\n",
    "snow = SnowballStemmer('english')\n",
    "print(wnl.lemmatize('programming'))\n",
    "print(snow.stem('programming'))\n",
    "print(wnl.lemmatize('coder'))\n",
    "print(snow.stem('coder'))\n",
    "print(wnl.lemmatize('iam using python for data science'))\n",
    "print(snow.stem('iam using python for data science'))\n",
    "print(wnl.lemmatize('looking for challenging role in field of datascience and machinelearning'))\n",
    "print(snow.stem('looking for challenging role in sciences'))"
   ]
  },
  {
   "cell_type": "code",
   "execution_count": 45,
   "metadata": {},
   "outputs": [
    {
     "name": "stdout",
     "output_type": "stream",
     "text": [
      "['year', 'is', '2018', ',', 'month', 'is', 'june', '.', 'Day', 'is', 'monday']\n",
      "11\n",
      "['year is 2018 , month is june .', 'Day is monday']\n",
      "2\n"
     ]
    }
   ],
   "source": [
    "# example of word and sentence tokenize\n",
    "from nltk.tokenize import sent_tokenize, word_tokenize\n",
    "data = \"year is 2018 , month is june . Day is monday\"\n",
    "words = word_tokenize(data)\n",
    "print(words)\n",
    "print(len(words))\n",
    "sent = sent_tokenize(data)\n",
    "print(sent)\n",
    "print(len(sent))"
   ]
  },
  {
   "cell_type": "code",
   "execution_count": 46,
   "metadata": {},
   "outputs": [
    {
     "name": "stdout",
     "output_type": "stream",
     "text": [
      "['year', 'is', '2018', ',', 'month', 'is', 'june', '.', 'Day', 'is', 'monday']\n",
      "['year', '2018', ',', 'month', 'june', '.', 'Day', 'monday']\n"
     ]
    }
   ],
   "source": [
    "# Removing stop words from piece of input text using NLTK\n",
    "from nltk.corpus import stopwords\n",
    "from nltk.tokenize import word_tokenize\n",
    "example = \"year is 2018 , month is june . Day is monday\"\n",
    "stop_words = set(stopwords.words('english'))\n",
    "word_tokens = word_tokenize(example) \n",
    "filtered_sentence = [w for w in word_tokens if not w in stop_words]\n",
    "filtered_sentence = []\n",
    "for w in word_tokens:\n",
    "    if w not in stop_words:\n",
    "        filtered_sentence.append(w)\n",
    "print(word_tokens)\n",
    "print(filtered_sentence)#stop words removed "
   ]
  },
  {
   "cell_type": "code",
   "execution_count": 68,
   "metadata": {},
   "outputs": [],
   "source": [
    "# Removing stopwords from given input text file and writing to other file \n",
    "import io\n",
    "from nltk.corpus import stopwords\n",
    "from nltk.tokenize import word_tokenize\n",
    "#word_tokenize accepts a string as an input, not a file.\n",
    "stop_words = set(stopwords.words('english'))\n",
    "file1 = open(r\"C:\\Users\\dasarred\\Desktop\\text.txt\")\n",
    "line = file1.read()# Use this to read file content as a stream:\n",
    "words = line.split()\n",
    "for r in words:\n",
    "    if not r in stop_words:\n",
    "        appendFile = open(r'C:\\Users\\dasarred\\Desktop\\filteredtext.txt','a')\n",
    "        appendFile.write(\" \"+r)\n",
    "        appendFile.close()"
   ]
  },
  {
   "cell_type": "code",
   "execution_count": 113,
   "metadata": {},
   "outputs": [
    {
     "name": "stdout",
     "output_type": "stream",
     "text": [
      "{'m', 'their', 'what', 'they', 'same', 'shan', 'so', 'doesn', 'above', \"you'll\", 'were', 'these', 'can', 'i', 'between', 'here', 'ourselves', 'theirs', 've', 'but', \"that'll\", 'again', 'ain', 'she', 'very', 'hers', 'off', 'couldn', \"doesn't\", 'how', 'then', 'no', 'by', 'own', 'as', 'me', \"haven't\", 'in', \"needn't\", \"couldn't\", 'down', 'shouldn', 'you', 'been', 'of', 'about', 'myself', 'needn', 'hadn', 'won', 'himself', 'because', \"mustn't\", 'too', 'herself', 'it', 'against', 'them', 'through', \"shan't\", 'we', 'only', 'my', 'did', 'most', 'on', 'wouldn', 'was', 'before', 'has', 'is', 'do', \"mightn't\", 'weren', 'once', 'this', 'am', 'be', 'should', 'whom', 'are', 'mightn', \"aren't\", 'he', 'more', 'the', 'who', 'd', 'those', 'while', \"you've\", 'when', 'not', \"wasn't\", 'below', 'some', \"hasn't\", 'aren', 'until', 'any', 'under', 'into', 'haven', 'over', 'just', 'out', 'll', 'and', 'yours', 're', 'ours', \"you'd\", 't', 'doing', 'themselves', 'yourselves', 'after', 'does', 'that', 'hasn', 'other', 'his', 'at', 'itself', 'isn', 'yourself', \"wouldn't\", 'its', 'having', 'him', 'there', 'than', \"isn't\", \"should've\", 'if', 'both', 'during', 'our', 'for', \"she's\", 'why', 'being', 'or', 'have', 'each', 'don', 'nor', 'all', 'y', 'to', 'such', \"you're\", 'will', \"weren't\", 'had', 'ma', 'wasn', \"shouldn't\", 'a', 'her', 'didn', 'your', \"don't\", 'few', \"it's\", 'mustn', \"didn't\", 'further', 'an', 's', \"won't\", 'from', 'up', 'with', 'where', \"hadn't\", 'which', 'now', 'o'}\n",
      "********************************\n",
      "number of stop words is: 179 \n"
     ]
    }
   ],
   "source": [
    "from nltk.corpus import stopwords\n",
    "stop_words = set(stopwords.words('english'))\n",
    "print(stop_words)\n",
    "import numpy\n",
    "print(\"********************************\")\n",
    "x = len(stop_words)\n",
    "print(\"number of stop words is: %d \"% x)"
   ]
  },
  {
   "cell_type": "code",
   "execution_count": 149,
   "metadata": {},
   "outputs": [
    {
     "name": "stdout",
     "output_type": "stream",
     "text": [
      "utf-8\n",
      "{'laptop', 'laptop_computer'}\n",
      "0.25\n",
      "0.25\n"
     ]
    },
    {
     "data": {
      "text/plain": [
       "[Synset('laptop.n.01')]"
      ]
     },
     "execution_count": 149,
     "metadata": {},
     "output_type": "execute_result"
    }
   ],
   "source": [
    "import sys\n",
    "print(sys.getdefaultencoding())\n",
    "import nltk\n",
    "from nltk.corpus import wordnet\n",
    "synonyms = []\n",
    "for syn in wordnet.synsets(\"laptop\"):\n",
    "    for l in syn.lemmas():\n",
    "        synonyms.append(l.name())\n",
    "        \n",
    "print(set(synonyms))\n",
    "w1 = wordnet.synset('laptop.n.01') \n",
    "w2 = wordnet.synset('desktop.n.01')\n",
    "print(w1.wup_similarity(w2))\n",
    "w3 = wordnet.synset('laptop.n.01') \n",
    "w4 = wordnet.synset('desktop.n.01')\n",
    "print(w3.wup_similarity(w4))\n",
    "wordnet.synsets('laptop')"
   ]
  },
  {
   "cell_type": "code",
   "execution_count": 175,
   "metadata": {},
   "outputs": [
    {
     "name": "stdout",
     "output_type": "stream",
     "text": [
      "2\n",
      "0\n"
     ]
    }
   ],
   "source": [
    "import nltk  \n",
    "print(nltk.edit_distance(\"is\", \"was\"))\n",
    "print(nltk.edit_distance(\"bharath\", \"bharath\"))"
   ]
  },
  {
   "cell_type": "code",
   "execution_count": 178,
   "metadata": {},
   "outputs": [
    {
     "name": "stdout",
     "output_type": "stream",
     "text": [
      "0.0\n"
     ]
    }
   ],
   "source": [
    "s1 = set([1,1,1,1,1])\n",
    "s2 = set([1,1,1,1,1])\n",
    "print(nltk.jaccard_distance(s1,s2))"
   ]
  },
  {
   "cell_type": "code",
   "execution_count": null,
   "metadata": {},
   "outputs": [],
   "source": []
  }
 ],
 "metadata": {
  "kernelspec": {
   "display_name": "Python 3",
   "language": "python",
   "name": "python3"
  },
  "language_info": {
   "codemirror_mode": {
    "name": "ipython",
    "version": 3
   },
   "file_extension": ".py",
   "mimetype": "text/x-python",
   "name": "python",
   "nbconvert_exporter": "python",
   "pygments_lexer": "ipython3",
   "version": "3.6.5"
  }
 },
 "nbformat": 4,
 "nbformat_minor": 2
}
