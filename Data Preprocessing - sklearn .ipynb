{
 "cells": [
  {
   "cell_type": "markdown",
   "metadata": {},
   "source": [
    "http://benalexkeen.com/feature-scaling-with-scikit-learn/\n",
    "http://www.enlistq.com/feature-scaling-python-using-scikit-learn/\n",
    "https://t4tutorials.com/min-max-normalization-of-data-in-data-mining/\n",
    "http://sebastianraschka.com/Articles/2014_about_feature_scaling.html"
   ]
  },
  {
   "cell_type": "markdown",
   "metadata": {},
   "source": [
    "Scaled data has Zero mean and unit variance \n",
    "\n",
    "Standard deviation  = square root of the variance"
   ]
  },
  {
   "cell_type": "code",
   "execution_count": 16,
   "metadata": {},
   "outputs": [
    {
     "name": "stdout",
     "output_type": "stream",
     "text": [
      "-------------------------------\n",
      "9\n",
      "-------------------------------\n",
      "(3, 3)\n",
      "-------------------------------\n",
      "[[-1.22474487 -1.22474487 -1.22474487]\n",
      " [ 0.          0.          0.        ]\n",
      " [ 1.22474487  1.22474487  1.22474487]]\n",
      "-------------------------------\n",
      "[0. 0. 0.]\n",
      "-------------------------------\n",
      "[1. 1. 1.]\n"
     ]
    },
    {
     "name": "stderr",
     "output_type": "stream",
     "text": [
      "C:\\Users\\dasarred\\AppData\\Local\\Continuum\\anaconda3\\lib\\site-packages\\sklearn\\utils\\validation.py:475: DataConversionWarning: Data with input dtype int32 was converted to float64 by the scale function.\n",
      "  warnings.warn(msg, DataConversionWarning)\n"
     ]
    }
   ],
   "source": [
    "import numpy as np\n",
    "from sklearn.preprocessing import scale \n",
    "X_train = np.array([[ 1, 2,  3],[ 4,  5,  6],[ 7,  8, 9]])\n",
    "print('-------------------------------')\n",
    "print(X_train.size)\n",
    "print('-------------------------------')\n",
    "print(X_train.shape)\n",
    "X_scale = scale(X_train)\n",
    "print('-------------------------------')\n",
    "print(X_scale)\n",
    "print('-------------------------------')\n",
    "print(X_scale.mean(axis=0))\n",
    "print('-------------------------------')\n",
    "print(X_scale.std(axis=0))"
   ]
  },
  {
   "cell_type": "markdown",
   "metadata": {},
   "source": [
    "minmax_scale is used to scale the feature to a range often between zero and one  "
   ]
  },
  {
   "cell_type": "markdown",
   "metadata": {},
   "source": [
    "minmax_scale = (v-min)/(max - min)\n",
    "\n",
    "for 4*1 element the minmax_scale = (20-8)/(20-8) = 1\n",
    "\n",
    "for 3*1 element the minmax_scale = (15-8)/(20-8) = 7/12 = 0.5833"
   ]
  },
  {
   "cell_type": "code",
   "execution_count": 24,
   "metadata": {},
   "outputs": [
    {
     "name": "stdout",
     "output_type": "stream",
     "text": [
      "(4, 1)\n",
      "-------------------------------\n",
      "[[ 8]\n",
      " [10]\n",
      " [15]\n",
      " [20]]\n",
      "-------------------------------\n",
      "[[0.        ]\n",
      " [0.16666667]\n",
      " [0.58333333]\n",
      " [1.        ]]\n"
     ]
    },
    {
     "name": "stderr",
     "output_type": "stream",
     "text": [
      "C:\\Users\\dasarred\\AppData\\Local\\Continuum\\anaconda3\\lib\\site-packages\\sklearn\\utils\\validation.py:475: DataConversionWarning: Data with input dtype int32 was converted to float64.\n",
      "  warnings.warn(msg, DataConversionWarning)\n"
     ]
    }
   ],
   "source": [
    "#Applying minmax scaling on numpy array having one column , if its 3 column then give as ---> minmax_scale(x,columns=[0, 1, 2])\n",
    "X = np.array([[8], [10], [15],[20]])\n",
    "print(X.shape)\n",
    "print('-------------------------------')\n",
    "print(X)\n",
    "print('-------------------------------')\n",
    "from sklearn.preprocessing import minmax_scale\n",
    "X_minmax_scale = minmax_scale(X)\n",
    "print(X_minmax_scale)"
   ]
  },
  {
   "cell_type": "code",
   "execution_count": 35,
   "metadata": {},
   "outputs": [
    {
     "name": "stdout",
     "output_type": "stream",
     "text": [
      "   s1  s2\n",
      "0   1  10\n",
      "1   2   9\n",
      "2   3   8\n",
      "3   4   7\n",
      "4   5   6\n",
      "5   6   5\n",
      "-------------------------------\n",
      "[0.  0.2 0.4 0.6 0.8 1. ]\n",
      "-------------------------------\n",
      "[[0.  1. ]\n",
      " [0.2 0.8]\n",
      " [0.4 0.6]\n",
      " [0.6 0.4]\n",
      " [0.8 0.2]\n",
      " [1.  0. ]]\n"
     ]
    },
    {
     "name": "stderr",
     "output_type": "stream",
     "text": [
      "C:\\Users\\dasarred\\AppData\\Local\\Continuum\\anaconda3\\lib\\site-packages\\sklearn\\utils\\validation.py:475: DataConversionWarning: Data with input dtype int64 was converted to float64.\n",
      "  warnings.warn(msg, DataConversionWarning)\n"
     ]
    }
   ],
   "source": [
    "#Applying minmax scaling on pandas dataframe\n",
    "import pandas as pd\n",
    "s1 = pd.Series([1, 2, 3, 4, 5, 6], index=(range(6)))\n",
    "s2 = pd.Series([10, 9, 8, 7, 6, 5], index=(range(6)))\n",
    "df = pd.DataFrame(s1, columns=['s1'])\n",
    "df['s2'] = s2\n",
    "print(df)\n",
    "print('-------------------------------')\n",
    "print(minmax_scale(df['s1']))\n",
    "print('-------------------------------')\n",
    "print(minmax_scale(df))\n"
   ]
  },
  {
   "cell_type": "markdown",
   "metadata": {},
   "source": [
    "maxabs_scale is used to scale the feature to a range often between -1 and +1"
   ]
  },
  {
   "cell_type": "code",
   "execution_count": 49,
   "metadata": {},
   "outputs": [
    {
     "name": "stdout",
     "output_type": "stream",
     "text": [
      "[[ 1 -2  3]\n",
      " [ 4  5  6]\n",
      " [-7  8 -9]]\n",
      "-------------------------------\n",
      "[[ 0.14285714 -0.25        0.33333333]\n",
      " [ 0.57142857  0.625       0.66666667]\n",
      " [-1.          1.         -1.        ]]\n"
     ]
    }
   ],
   "source": [
    "from sklearn.preprocessing import maxabs_scale\n",
    "X = np.array([[ 1, -2,  3],[ 4,  5,  6],[ -7,  8, -9]])\n",
    "X_maxabs_scale = maxabs_scale(X)\n",
    "print(X)\n",
    "print('-------------------------------')\n",
    "print(X_maxabs_scale)"
   ]
  },
  {
   "cell_type": "code",
   "execution_count": null,
   "metadata": {},
   "outputs": [],
   "source": []
  },
  {
   "cell_type": "code",
   "execution_count": null,
   "metadata": {},
   "outputs": [],
   "source": []
  }
 ],
 "metadata": {
  "kernelspec": {
   "display_name": "Python 3",
   "language": "python",
   "name": "python3"
  },
  "language_info": {
   "codemirror_mode": {
    "name": "ipython",
    "version": 3
   },
   "file_extension": ".py",
   "mimetype": "text/x-python",
   "name": "python",
   "nbconvert_exporter": "python",
   "pygments_lexer": "ipython3",
   "version": "3.6.5"
  }
 },
 "nbformat": 4,
 "nbformat_minor": 2
}
