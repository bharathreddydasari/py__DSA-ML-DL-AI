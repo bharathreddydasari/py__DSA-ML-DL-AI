{
 "cells": [
  {
   "cell_type": "code",
   "execution_count": 1,
   "metadata": {},
   "outputs": [],
   "source": [
    "import pandas as pd\n",
    "import numpy as np"
   ]
  },
  {
   "cell_type": "code",
   "execution_count": 2,
   "metadata": {},
   "outputs": [],
   "source": [
    "import sklearn.datasets as skds\n",
    "from pathlib import Path"
   ]
  },
  {
   "cell_type": "code",
   "execution_count": 3,
   "metadata": {},
   "outputs": [],
   "source": [
    "np.random.seed(1237) # For reproducibility"
   ]
  },
  {
   "cell_type": "code",
   "execution_count": 4,
   "metadata": {},
   "outputs": [],
   "source": [
    "#http://qwone.com/~jason/20Newsgroups/\n",
    "path_train = \"C:\\\\Users\\\\dasarred\\\\20news-bydate-train\""
   ]
  },
  {
   "cell_type": "code",
   "execution_count": 5,
   "metadata": {},
   "outputs": [],
   "source": [
    "files_train = skds.load_files(path_train,load_content=False)"
   ]
  },
  {
   "cell_type": "code",
   "execution_count": 6,
   "metadata": {},
   "outputs": [],
   "source": [
    "label_index = files_train.target\n",
    "label_names = files_train.target_names\n",
    "labelled_files = files_train.filenames"
   ]
  },
  {
   "cell_type": "code",
   "execution_count": 7,
   "metadata": {},
   "outputs": [],
   "source": [
    "data_tags = [\"filename\",\"category\",\"news\"]"
   ]
  },
  {
   "cell_type": "code",
   "execution_count": 8,
   "metadata": {},
   "outputs": [],
   "source": [
    "data_list = []"
   ]
  },
  {
   "cell_type": "code",
   "execution_count": 9,
   "metadata": {},
   "outputs": [],
   "source": [
    "i=0\n",
    "for f in labelled_files:\n",
    "    data_list.append((f,label_names[label_index[i]],Path(f).read_text()))\n",
    "    i += 1"
   ]
  },
  {
   "cell_type": "code",
   "execution_count": 10,
   "metadata": {},
   "outputs": [
    {
     "name": "stderr",
     "output_type": "stream",
     "text": [
      "IOPub data rate exceeded.\n",
      "The notebook server will temporarily stop sending output\n",
      "to the client in order to avoid crashing it.\n",
      "To change this limit, set the config variable\n",
      "`--NotebookApp.iopub_data_rate_limit`.\n",
      "\n",
      "Current values:\n",
      "NotebookApp.iopub_data_rate_limit=1000000.0 (bytes/sec)\n",
      "NotebookApp.rate_limit_window=3.0 (secs)\n",
      "\n"
     ]
    }
   ],
   "source": [
    "print(data_list)"
   ]
  },
  {
   "cell_type": "code",
   "execution_count": 11,
   "metadata": {},
   "outputs": [],
   "source": [
    "data = pd.DataFrame.from_records(data_list, columns=data_tags)"
   ]
  },
  {
   "cell_type": "code",
   "execution_count": 12,
   "metadata": {},
   "outputs": [],
   "source": [
    "# lets take 80% data as training and remaining 20% for test.\n",
    "train_size = int(len(data) * .8)\n",
    " \n",
    "train_posts = data['news'][:train_size]\n",
    "train_tags = data['category'][:train_size]\n",
    "train_files_names = data['filename'][:train_size]\n",
    " \n",
    "test_posts = data['news'][train_size:]\n",
    "test_tags = data['category'][train_size:]\n",
    "test_files_names = data['filename'][train_size:]"
   ]
  },
  {
   "cell_type": "code",
   "execution_count": 13,
   "metadata": {},
   "outputs": [
    {
     "ename": "ModuleNotFoundError",
     "evalue": "No module named 'keras'",
     "output_type": "error",
     "traceback": [
      "\u001b[1;31m---------------------------------------------------------------------------\u001b[0m",
      "\u001b[1;31mModuleNotFoundError\u001b[0m                       Traceback (most recent call last)",
      "\u001b[1;32m<ipython-input-13-8715f4e47aac>\u001b[0m in \u001b[0;36m<module>\u001b[1;34m()\u001b[0m\n\u001b[1;32m----> 1\u001b[1;33m \u001b[1;32mimport\u001b[0m \u001b[0mkeras\u001b[0m\u001b[1;33m\u001b[0m\u001b[0m\n\u001b[0m\u001b[0;32m      2\u001b[0m \u001b[1;32mfrom\u001b[0m \u001b[0mkeras\u001b[0m\u001b[1;33m.\u001b[0m\u001b[0mpreprocessing\u001b[0m\u001b[1;33m.\u001b[0m\u001b[0mtext\u001b[0m \u001b[1;32mimport\u001b[0m \u001b[0mTokenizer\u001b[0m\u001b[1;33m\u001b[0m\u001b[0m\n\u001b[0;32m      3\u001b[0m \u001b[1;32mfrom\u001b[0m \u001b[0mkeras\u001b[0m\u001b[1;33m.\u001b[0m\u001b[0mmodels\u001b[0m \u001b[1;32mimport\u001b[0m \u001b[0mSequential\u001b[0m\u001b[1;33m\u001b[0m\u001b[0m\n\u001b[0;32m      4\u001b[0m \u001b[1;32mfrom\u001b[0m \u001b[0mkeras\u001b[0m\u001b[1;33m.\u001b[0m\u001b[0mlayers\u001b[0m \u001b[1;32mimport\u001b[0m \u001b[0mActivation\u001b[0m\u001b[1;33m,\u001b[0m \u001b[0mDense\u001b[0m\u001b[1;33m,\u001b[0m \u001b[0mDropout\u001b[0m\u001b[1;33m\u001b[0m\u001b[0m\n\u001b[0;32m      5\u001b[0m \u001b[1;32mfrom\u001b[0m \u001b[0msklearn\u001b[0m\u001b[1;33m.\u001b[0m\u001b[0mpreprocessing\u001b[0m \u001b[1;32mimport\u001b[0m \u001b[0mLabelBinarizer\u001b[0m\u001b[1;33m\u001b[0m\u001b[0m\n",
      "\u001b[1;31mModuleNotFoundError\u001b[0m: No module named 'keras'"
     ]
    }
   ],
   "source": [
    "import keras\n",
    "from keras.preprocessing.text import Tokenizer\n",
    "from keras.models import Sequential\n",
    "from keras.layers import Activation, Dense, Dropout\n",
    "from sklearn.preprocessing import LabelBinarizer"
   ]
  },
  {
   "cell_type": "code",
   "execution_count": 15,
   "metadata": {},
   "outputs": [],
   "source": [
    "# select markdown and use below cmd to display image in notebook itself , keep image in local directory \n",
    "#<img src=\"keras_installation.PNG\">"
   ]
  },
  {
   "cell_type": "markdown",
   "metadata": {},
   "source": [
    "<img src=\"keras_installation.png\">"
   ]
  },
  {
   "cell_type": "code",
   "execution_count": 18,
   "metadata": {},
   "outputs": [
    {
     "name": "stdout",
     "output_type": "stream",
     "text": [
      "keras: 2.2.0\n"
     ]
    }
   ],
   "source": [
    "# open anaconda prompt from windows start and use below cmd \n",
    "#pip install keras\n",
    "import keras\n",
    "print('keras: %s' % keras.__version__)\n",
    "from keras.preprocessing.text import Tokenizer\n",
    "from keras.models import Sequential\n",
    "from keras.layers import Activation, Dense, Dropout\n",
    "from sklearn.preprocessing import LabelBinarizer"
   ]
  },
  {
   "cell_type": "code",
   "execution_count": 20,
   "metadata": {},
   "outputs": [],
   "source": [
    "# 20 news groups\n",
    "num_labels = 20\n",
    "vocab_size = 15000\n",
    "batch_size = 100\n",
    " \n",
    "# define Tokenizer with Vocab Size\n",
    "# tokenizer(texts_to_matrix) used to convert your text into a numeric vector\n",
    "tokenizer = Tokenizer(num_words=vocab_size)\n",
    "tokenizer.fit_on_texts(train_posts)\n",
    " \n",
    "x_train = tokenizer.texts_to_matrix(train_posts, mode='tfidf')\n",
    "x_test = tokenizer.texts_to_matrix(test_posts, mode='tfidf')\n",
    " \n",
    "encoder = LabelBinarizer()\n",
    "encoder.fit(train_tags)\n",
    "y_train = encoder.transform(train_tags)\n",
    "y_test = encoder.transform(test_tags)"
   ]
  },
  {
   "cell_type": "code",
   "execution_count": 21,
   "metadata": {},
   "outputs": [],
   "source": [
    "encoder = LabelBinarizer()\n",
    "encoder.fit(train_tags)\n",
    "y_train = encoder.transform(train_tags)\n",
    "y_test = encoder.transform(test_tags)"
   ]
  },
  {
   "cell_type": "code",
   "execution_count": 22,
   "metadata": {},
   "outputs": [
    {
     "name": "stdout",
     "output_type": "stream",
     "text": [
      "_________________________________________________________________\n",
      "Layer (type)                 Output Shape              Param #   \n",
      "=================================================================\n",
      "dense_1 (Dense)              (None, 512)               7680512   \n",
      "_________________________________________________________________\n",
      "activation_1 (Activation)    (None, 512)               0         \n",
      "_________________________________________________________________\n",
      "dropout_1 (Dropout)          (None, 512)               0         \n",
      "_________________________________________________________________\n",
      "dense_2 (Dense)              (None, 512)               262656    \n",
      "_________________________________________________________________\n",
      "activation_2 (Activation)    (None, 512)               0         \n",
      "_________________________________________________________________\n",
      "dropout_2 (Dropout)          (None, 512)               0         \n",
      "_________________________________________________________________\n",
      "dense_3 (Dense)              (None, 20)                10260     \n",
      "_________________________________________________________________\n",
      "activation_3 (Activation)    (None, 20)                0         \n",
      "=================================================================\n",
      "Total params: 7,953,428\n",
      "Trainable params: 7,953,428\n",
      "Non-trainable params: 0\n",
      "_________________________________________________________________\n",
      "Train on 8145 samples, validate on 906 samples\n",
      "Epoch 1/30\n",
      "8145/8145 [==============================] - 20s 2ms/step - loss: 1.1817 - acc: 0.6923 - val_loss: 0.4392 - val_acc: 0.8687\n",
      "Epoch 2/30\n",
      "8145/8145 [==============================] - 18s 2ms/step - loss: 0.1378 - acc: 0.9715 - val_loss: 0.4171 - val_acc: 0.8996\n",
      "Epoch 3/30\n",
      "8145/8145 [==============================] - 18s 2ms/step - loss: 0.0597 - acc: 0.9915 - val_loss: 0.4082 - val_acc: 0.8974\n",
      "Epoch 4/30\n",
      "8145/8145 [==============================] - 18s 2ms/step - loss: 0.0438 - acc: 0.9942 - val_loss: 0.3910 - val_acc: 0.9007\n",
      "Epoch 5/30\n",
      "8145/8145 [==============================] - 17s 2ms/step - loss: 0.0342 - acc: 0.9956 - val_loss: 0.4001 - val_acc: 0.9062\n",
      "Epoch 6/30\n",
      "8145/8145 [==============================] - 18s 2ms/step - loss: 0.0290 - acc: 0.9966 - val_loss: 0.4558 - val_acc: 0.8974\n",
      "Epoch 7/30\n",
      "8145/8145 [==============================] - 17s 2ms/step - loss: 0.0369 - acc: 0.9963 - val_loss: 0.4599 - val_acc: 0.9040\n",
      "Epoch 8/30\n",
      "8145/8145 [==============================] - 18s 2ms/step - loss: 0.0376 - acc: 0.9959 - val_loss: 0.4906 - val_acc: 0.8962\n",
      "Epoch 9/30\n",
      "8145/8145 [==============================] - 18s 2ms/step - loss: 0.0388 - acc: 0.9951 - val_loss: 0.5138 - val_acc: 0.8962\n",
      "Epoch 10/30\n",
      "8145/8145 [==============================] - 19s 2ms/step - loss: 0.0339 - acc: 0.9963 - val_loss: 0.5494 - val_acc: 0.9007\n",
      "Epoch 11/30\n",
      "8145/8145 [==============================] - 20s 2ms/step - loss: 0.0325 - acc: 0.9966 - val_loss: 0.4925 - val_acc: 0.8929\n",
      "Epoch 12/30\n",
      "8145/8145 [==============================] - 18s 2ms/step - loss: 0.0323 - acc: 0.9957 - val_loss: 0.6363 - val_acc: 0.8841\n",
      "Epoch 13/30\n",
      "8145/8145 [==============================] - 18s 2ms/step - loss: 0.0457 - acc: 0.9935 - val_loss: 0.6823 - val_acc: 0.8775\n",
      "Epoch 14/30\n",
      "8145/8145 [==============================] - 18s 2ms/step - loss: 0.0529 - acc: 0.9914 - val_loss: 0.6092 - val_acc: 0.8907\n",
      "Epoch 15/30\n",
      "8145/8145 [==============================] - 19s 2ms/step - loss: 0.0408 - acc: 0.9950 - val_loss: 0.6552 - val_acc: 0.8841\n",
      "Epoch 16/30\n",
      "8145/8145 [==============================] - 19s 2ms/step - loss: 0.0503 - acc: 0.9941 - val_loss: 0.6702 - val_acc: 0.8775\n",
      "Epoch 17/30\n",
      "8145/8145 [==============================] - 19s 2ms/step - loss: 0.0573 - acc: 0.9937 - val_loss: 0.7116 - val_acc: 0.8720\n",
      "Epoch 18/30\n",
      "8145/8145 [==============================] - 20s 2ms/step - loss: 0.0524 - acc: 0.9935 - val_loss: 0.7058 - val_acc: 0.8907\n",
      "Epoch 19/30\n",
      "8145/8145 [==============================] - 19s 2ms/step - loss: 0.0644 - acc: 0.9913 - val_loss: 0.7554 - val_acc: 0.8731\n",
      "Epoch 20/30\n",
      "8145/8145 [==============================] - 19s 2ms/step - loss: 0.0474 - acc: 0.9951 - val_loss: 1.1331 - val_acc: 0.8433\n",
      "Epoch 21/30\n",
      "8145/8145 [==============================] - 19s 2ms/step - loss: 0.1414 - acc: 0.9823 - val_loss: 0.8047 - val_acc: 0.8830\n",
      "Epoch 22/30\n",
      "8145/8145 [==============================] - 20s 2ms/step - loss: 0.0812 - acc: 0.9896 - val_loss: 0.8896 - val_acc: 0.8709\n",
      "Epoch 23/30\n",
      "8145/8145 [==============================] - 20s 2ms/step - loss: 0.0527 - acc: 0.9948 - val_loss: 0.8158 - val_acc: 0.8819\n",
      "Epoch 24/30\n",
      "8145/8145 [==============================] - 20s 2ms/step - loss: 0.0531 - acc: 0.9950 - val_loss: 0.9433 - val_acc: 0.8742\n",
      "Epoch 25/30\n",
      "8145/8145 [==============================] - 19s 2ms/step - loss: 0.0368 - acc: 0.9963 - val_loss: 0.8428 - val_acc: 0.8874\n",
      "Epoch 26/30\n",
      "8145/8145 [==============================] - 18s 2ms/step - loss: 0.0357 - acc: 0.9963 - val_loss: 0.9695 - val_acc: 0.8731\n",
      "Epoch 27/30\n",
      "8145/8145 [==============================] - 18s 2ms/step - loss: 0.0429 - acc: 0.9955 - val_loss: 0.8776 - val_acc: 0.8753\n",
      "Epoch 28/30\n",
      "8145/8145 [==============================] - 19s 2ms/step - loss: 0.0395 - acc: 0.9955 - val_loss: 0.8772 - val_acc: 0.8819\n",
      "Epoch 29/30\n",
      "8145/8145 [==============================] - 20s 2ms/step - loss: 0.0461 - acc: 0.9953 - val_loss: 0.9465 - val_acc: 0.8753\n",
      "Epoch 30/30\n",
      "8145/8145 [==============================] - 18s 2ms/step - loss: 0.0416 - acc: 0.9955 - val_loss: 0.8855 - val_acc: 0.8819\n"
     ]
    }
   ],
   "source": [
    "model = Sequential()\n",
    "model.add(Dense(512, input_shape=(vocab_size,)))\n",
    "model.add(Activation('relu'))\n",
    "model.add(Dropout(0.3))\n",
    "model.add(Dense(512))\n",
    "model.add(Activation('relu'))\n",
    "model.add(Dropout(0.3))\n",
    "model.add(Dense(num_labels))\n",
    "model.add(Activation('softmax'))\n",
    "model.summary()\n",
    " \n",
    "model.compile(loss='categorical_crossentropy',\n",
    "              optimizer='adam',\n",
    "              metrics=['accuracy'])\n",
    " \n",
    "history = model.fit(x_train, y_train,\n",
    "                    batch_size=batch_size,\n",
    "                    epochs=30,\n",
    "                    verbose=1,\n",
    "                    validation_split=0.1)"
   ]
  },
  {
   "cell_type": "code",
   "execution_count": 23,
   "metadata": {},
   "outputs": [
    {
     "name": "stdout",
     "output_type": "stream",
     "text": [
      "2263/2263 [==============================] - 1s 318us/step\n",
      "Test accuracy: 0.8784798956581096\n",
      "C:\\Users\\dasarred\\20news-bydate-train\\alt.atheism\\53114\n",
      "Actual label:alt.atheism\n",
      "Predicted label: alt.atheism\n",
      "C:\\Users\\dasarred\\20news-bydate-train\\comp.graphics\\38666\n",
      "Actual label:comp.graphics\n",
      "Predicted label: comp.graphics\n",
      "C:\\Users\\dasarred\\20news-bydate-train\\sci.med\\58932\n",
      "Actual label:sci.med\n",
      "Predicted label: sci.med\n",
      "C:\\Users\\dasarred\\20news-bydate-train\\sci.crypt\\15212\n",
      "Actual label:sci.crypt\n",
      "Predicted label: sci.crypt\n",
      "C:\\Users\\dasarred\\20news-bydate-train\\comp.os.ms-windows.misc\\9695\n",
      "Actual label:comp.os.ms-windows.misc\n",
      "Predicted label: comp.os.ms-windows.misc\n",
      "C:\\Users\\dasarred\\20news-bydate-train\\rec.sport.baseball\\104482\n",
      "Actual label:rec.sport.baseball\n",
      "Predicted label: rec.sport.baseball\n",
      "C:\\Users\\dasarred\\20news-bydate-train\\soc.religion.christian\\20731\n",
      "Actual label:soc.religion.christian\n",
      "Predicted label: sci.med\n",
      "C:\\Users\\dasarred\\20news-bydate-train\\comp.graphics\\38583\n",
      "Actual label:comp.graphics\n",
      "Predicted label: comp.graphics\n",
      "C:\\Users\\dasarred\\20news-bydate-train\\rec.sport.hockey\\52638\n",
      "Actual label:rec.sport.hockey\n",
      "Predicted label: rec.sport.hockey\n",
      "C:\\Users\\dasarred\\20news-bydate-train\\rec.sport.hockey\\52636\n",
      "Actual label:rec.sport.hockey\n",
      "Predicted label: rec.sport.baseball\n"
     ]
    }
   ],
   "source": [
    "score = model.evaluate(x_test, y_test,\n",
    "                       batch_size=batch_size, verbose=1)\n",
    " \n",
    "print('Test accuracy:', score[1])\n",
    " \n",
    "text_labels = encoder.classes_\n",
    " \n",
    "for i in range(10):\n",
    "    prediction = model.predict(np.array([x_test[i]]))\n",
    "    predicted_label = text_labels[np.argmax(prediction[0])]\n",
    "    print(test_files_names.iloc[i])\n",
    "    print('Actual label:' + test_tags.iloc[i])\n",
    "    print(\"Predicted label: \" + predicted_label)"
   ]
  },
  {
   "cell_type": "code",
   "execution_count": 24,
   "metadata": {},
   "outputs": [
    {
     "name": "stderr",
     "output_type": "stream",
     "text": [
      "C:\\Users\\dasarred\\AppData\\Local\\Continuum\\anaconda3\\lib\\site-packages\\keras\\engine\\sequential.py:109: UserWarning: `Sequential.model` is deprecated. `Sequential` is a subclass of `Model`, you can just use your `Sequential` instance directly.\n",
      "  warnings.warn('`Sequential.model` is deprecated. '\n"
     ]
    }
   ],
   "source": [
    "# creates a HDF5 file 'my_model.h5'\n",
    "model.model.save('my_model.h5')\n",
    "\n",
    "import pickle\n",
    "\n",
    "# Save Tokenizer i.e. Vocabulary\n",
    "with open('tokenizer.pickle', 'wb') as handle:\n",
    "    pickle.dump(tokenizer, handle, protocol=pickle.HIGHEST_PROTOCOL)"
   ]
  },
  {
   "cell_type": "code",
   "execution_count": 25,
   "metadata": {},
   "outputs": [
    {
     "data": {
      "text/plain": [
       "array(['alt.atheism', 'comp.graphics', 'comp.os.ms-windows.misc',\n",
       "       'comp.sys.ibm.pc.hardware', 'comp.sys.mac.hardware',\n",
       "       'comp.windows.x', 'misc.forsale', 'rec.autos', 'rec.motorcycles',\n",
       "       'rec.sport.baseball', 'rec.sport.hockey', 'sci.crypt',\n",
       "       'sci.electronics', 'sci.med', 'sci.space',\n",
       "       'soc.religion.christian', 'talk.politics.guns',\n",
       "       'talk.politics.mideast', 'talk.politics.misc',\n",
       "       'talk.religion.misc'], dtype='<U24')"
      ]
     },
     "execution_count": 25,
     "metadata": {},
     "output_type": "execute_result"
    }
   ],
   "source": [
    "encoder.classes_ #LabelBinarizer"
   ]
  },
  {
   "cell_type": "code",
   "execution_count": 26,
   "metadata": {},
   "outputs": [
    {
     "name": "stdout",
     "output_type": "stream",
     "text": [
      "File -> C:\\Users\\dasarred\\20news-bydate-test\\comp.graphics\\38758 Predicted label: comp.graphics\n",
      "File -> C:\\Users\\dasarred\\20news-bydate-test\\misc.forsale\\76115 Predicted label: comp.sys.ibm.pc.hardware\n",
      "File -> C:\\Users\\dasarred\\20news-bydate-test\\soc.religion.christian\\21329 Predicted label: soc.religion.christian\n"
     ]
    }
   ],
   "source": [
    "# These are the labels we stored from our training\n",
    "# The order is very important here.\n",
    " \n",
    "labels = np.array(['alt.atheism', 'comp.graphics', 'comp.os.ms-windows.misc',\n",
    " 'comp.sys.ibm.pc.hardware', 'comp.sys.mac.hardware', 'comp.windows.x',\n",
    " 'misc.forsale', 'rec.autos', 'rec.motorcycles', 'rec.sport.baseball',\n",
    " 'rec.sport.hockey', 'sci.crypt', 'sci.electronics', 'sci.med', 'sci.space',\n",
    " 'soc.religion.christian', 'talk.politics.guns', 'talk.politics.mideast',\n",
    " 'talk.politics.misc', 'talk.religion.misc'])\n",
    " \n",
    "test_files = [\"C:\\\\Users\\\\dasarred\\\\20news-bydate-test\\\\comp.graphics\\\\38758\",\n",
    "              \"C:\\\\Users\\\\dasarred\\\\20news-bydate-test\\\\misc.forsale\\\\76115\",\n",
    "              \"C:\\\\Users\\\\dasarred\\\\20news-bydate-test\\\\soc.religion.christian\\\\21329\"\n",
    "              ]\n",
    "x_data = []\n",
    "for t_f in test_files:\n",
    "    t_f_data = Path(t_f).read_text()\n",
    "    x_data.append(t_f_data)\n",
    " \n",
    "x_data_series = pd.Series(x_data)\n",
    "x_tokenized = tokenizer.texts_to_matrix(x_data_series, mode='tfidf')\n",
    " \n",
    "i=0\n",
    "for x_t in x_tokenized:\n",
    "    prediction = model.predict(np.array([x_t]))\n",
    "    predicted_label = labels[np.argmax(prediction[0])]\n",
    "    print(\"File ->\", test_files[i], \"Predicted label: \" + predicted_label)\n",
    "    i += 1"
   ]
  },
  {
   "cell_type": "code",
   "execution_count": null,
   "metadata": {},
   "outputs": [],
   "source": []
  }
 ],
 "metadata": {
  "kernelspec": {
   "display_name": "Python 3",
   "language": "python",
   "name": "python3"
  },
  "language_info": {
   "codemirror_mode": {
    "name": "ipython",
    "version": 3
   },
   "file_extension": ".py",
   "mimetype": "text/x-python",
   "name": "python",
   "nbconvert_exporter": "python",
   "pygments_lexer": "ipython3",
   "version": "3.6.5"
  }
 },
 "nbformat": 4,
 "nbformat_minor": 2
}
